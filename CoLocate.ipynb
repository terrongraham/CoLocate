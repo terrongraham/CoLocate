{
 "cells": [
  {
   "cell_type": "code",
   "execution_count": 1,
   "id": "16ac57e5-563a-455e-868b-f05eea3d09e4",
   "metadata": {},
   "outputs": [],
   "source": [
    "from icalendar import Calendar, Event\n",
    "from faker import Faker\n",
    "fake = Faker()\n",
    "import pandas as pd\n",
    "from pathlib import Path\n",
    "import os.path\n",
    "from os import path\n",
    "import sys\n",
    "from calendar import monthrange\n",
    "from datetime import datetime, timedelta\n",
    "import uuid\n",
    "import random"
   ]
  },
  {
   "cell_type": "code",
   "execution_count": 2,
   "id": "56eafeb3-6e6c-4d54-a611-f7e7ea9fcb54",
   "metadata": {},
   "outputs": [
    {
     "name": "stdout",
     "output_type": "stream",
     "text": [
      "Empty DataFrame\n",
      "Columns: [EmployeeID, EmployeeName, EmployeeTeam, SelectedTimeZone, EmployeeDay, UserBeginTime, UserEndTime]\n",
      "Index: []\n"
     ]
    }
   ],
   "source": [
    "##### User-definable options, start editing here #####\n",
    "\n",
    "break_length_options = [0,30,60,90]\n",
    "break_length_weights = [0.25,0.5,0.2,0.05]\n",
    "event_length_options = [30,60,90,120,240]\n",
    "event_length_weights = [0.6,0.2,0.1,0.05,0.01]\n",
    "\n",
    "user_input_year = 2023\n",
    "\n",
    "user_input_month = 11\n",
    "\n",
    "EmployeeCalendars = pd.DataFrame(columns = ['EmployeeID', 'EmployeeName', 'EmployeeTeam', 'SelectedTimeZone', 'EmployeeDay', 'UserBeginTime', 'UserEndTime'])\n",
    "days_of_week = ['0', '1', '2', '3', '4']\n",
    "\n",
    "print(EmployeeCalendars)"
   ]
  },
  {
   "cell_type": "code",
   "execution_count": 3,
   "id": "7e5eb525-9f0c-477e-9282-e177b3625abb",
   "metadata": {},
   "outputs": [
    {
     "name": "stdin",
     "output_type": "stream",
     "text": [
      "Enter the number of people:  3\n",
      "Enter the number of teams:  2\n"
     ]
    },
    {
     "name": "stdout",
     "output_type": "stream",
     "text": [
      "   EmployeeID      EmployeeName                 EmployeeTeam SelectedTimeZone  \\\n",
      "0           0     William Stone  IT (Information Technology)    New York City   \n",
      "1           0     William Stone  IT (Information Technology)    New York City   \n",
      "2           0     William Stone  IT (Information Technology)    New York City   \n",
      "3           0     William Stone  IT (Information Technology)    New York City   \n",
      "4           0     William Stone  IT (Information Technology)    New York City   \n",
      "5           1  Jeffrey Mckinney  IT (Information Technology)           London   \n",
      "6           1  Jeffrey Mckinney  IT (Information Technology)           London   \n",
      "7           1  Jeffrey Mckinney  IT (Information Technology)           London   \n",
      "8           1  Jeffrey Mckinney  IT (Information Technology)           London   \n",
      "9           1  Jeffrey Mckinney  IT (Information Technology)           London   \n",
      "10          2    Billy Davidson  IT (Information Technology)    San Francisco   \n",
      "11          2    Billy Davidson  IT (Information Technology)    San Francisco   \n",
      "12          2    Billy Davidson  IT (Information Technology)    San Francisco   \n",
      "13          2    Billy Davidson  IT (Information Technology)    San Francisco   \n",
      "14          2    Billy Davidson  IT (Information Technology)    San Francisco   \n",
      "\n",
      "   EmployeeDay              UserBeginTime                UserEndTime  \n",
      "0            0 2023-11-06 08:30:42.873226 2023-11-06 16:30:42.873226  \n",
      "1            1 2023-11-07 10:00:42.879776 2023-11-07 18:00:42.879776  \n",
      "2            2 2023-11-08 09:00:42.883083 2023-11-08 17:00:42.883083  \n",
      "3            3 2023-11-09 08:00:42.884286 2023-11-09 16:00:42.884286  \n",
      "4            4 2023-11-10 09:00:42.884286 2023-11-10 17:00:42.884286  \n",
      "5            0 2023-11-06 03:00:42.884286 2023-11-06 11:00:42.884286  \n",
      "6            1 2023-11-07 04:30:42.884286 2023-11-07 12:30:42.884286  \n",
      "7            2 2023-11-08 04:00:42.884286 2023-11-08 12:00:42.884286  \n",
      "8            3 2023-11-09 04:00:42.884286 2023-11-09 12:00:42.884286  \n",
      "9            4 2023-11-10 04:00:42.901052 2023-11-10 12:00:42.901052  \n",
      "10           0 2023-11-06 13:00:42.903498 2023-11-06 21:00:42.903498  \n",
      "11           1 2023-11-07 13:30:42.905933 2023-11-07 21:30:42.905933  \n",
      "12           2 2023-11-08 12:30:42.906936 2023-11-08 20:30:42.906936  \n",
      "13           3 2023-11-09 12:30:42.908933 2023-11-09 20:30:42.908933  \n",
      "14           4 2023-11-10 13:00:42.910930 2023-11-10 21:00:42.910930  \n"
     ]
    },
    {
     "name": "stderr",
     "output_type": "stream",
     "text": [
      "C:\\Users\\terro\\AppData\\Local\\Temp\\ipykernel_24464\\1270753844.py:33: FutureWarning: The behavior of DataFrame concatenation with empty or all-NA entries is deprecated. In a future version, this will no longer exclude empty or all-NA columns when determining the result dtypes. To retain the old behavior, exclude the relevant entries before the concat operation.\n",
      "  EmployeeCalendars = pd.concat([EmployeeCalendars, new_row], ignore_index=True)\n"
     ]
    }
   ],
   "source": [
    "num_people = int(input(\"Enter the number of people: \"))\n",
    "num_teams = int(input(\"Enter the number of teams: \"))\n",
    "Teams = [\"Marketing\", \"Finance\", \"Human Resources\", \"Sales\", \"IT (Information Technology)\", \"Operations\", \"Research and Development\", \"Customer Support\", \"Legal\", \"Product Development\"]\n",
    "selected_teams = random.sample(Teams, num_teams)\n",
    "for i in range(num_people):\n",
    "    EmployeeID = i\n",
    "    EmployeeName = fake.name()\n",
    "    SelectedTimeZone = random.choice([\"San Francisco\", \"New York City\", \"London\"])\n",
    "    EmployeeTeam = random.choice(selected_teams) \n",
    "    for day in days_of_week:\n",
    "        EmployeeDay = day\n",
    "        if SelectedTimeZone == \"San Francisco\":\n",
    "            random_hour = random.randint(11, 13) \n",
    "        elif SelectedTimeZone == \"New York City\":\n",
    "            random_hour = random.randint(8, 10) \n",
    "        elif SelectedTimeZone == \"London\":\n",
    "            random_hour = random.randint(2, 4) \n",
    "        random_minute = random.choice([0, 30])\n",
    "        current_time = datetime.now()\n",
    "        UserBeginTime = current_time.replace(hour = random_hour, minute = random_minute)\n",
    "        UserBeginTime = UserBeginTime - timedelta(days = current_time.weekday()) + timedelta(days = int(EmployeeDay))\n",
    "        UserEndTime = UserBeginTime + timedelta(hours=8)\n",
    "\n",
    "        new_row = pd.DataFrame({\n",
    "            'EmployeeID': [EmployeeID],\n",
    "            'EmployeeName': [EmployeeName],\n",
    "            'EmployeeTeam': [EmployeeTeam],\n",
    "            'SelectedTimeZone': [SelectedTimeZone],\n",
    "            'EmployeeDay': [EmployeeDay],\n",
    "            'UserBeginTime': [UserBeginTime],\n",
    "            'UserEndTime': [UserEndTime]\n",
    "        })\n",
    "        EmployeeCalendars = pd.concat([EmployeeCalendars, new_row], ignore_index=True)\n",
    "\n",
    "print(EmployeeCalendars)"
   ]
  },
  {
   "cell_type": "code",
   "execution_count": 4,
   "id": "dfe65f90-87ed-4425-91be-a2618c60f985",
   "metadata": {},
   "outputs": [],
   "source": [
    "calendar_folder = str(Path.home()) + \"\\\\Python\"\n",
    "os.chmod(calendar_folder, 0o777)\n",
    "files = os.listdir(calendar_folder)\n",
    "for f in files:\n",
    "    os.remove(calendar_folder + \"\\\\\" + f)"
   ]
  },
  {
   "cell_type": "code",
   "execution_count": 5,
   "id": "5ba25d3b-1ff5-4b92-8f4f-1379110d0dbd",
   "metadata": {},
   "outputs": [
    {
     "name": "stdout",
     "output_type": "stream",
     "text": [
      "\u001b[92miCalendar files generated successfully and have been saved to: C:\\Users\\terro\\Python\u001b[0m\n",
      "\u001b[92miCalendar files generated successfully and have been saved to: C:\\Users\\terro\\Python\u001b[0m\n",
      "\u001b[92miCalendar files generated successfully and have been saved to: C:\\Users\\terro\\Python\u001b[0m\n"
     ]
    }
   ],
   "source": [
    "# https://stackoverflow.com/questions/3408097/parsing-files-ics-icalendar-using-python\n",
    "for index, row in EmployeeCalendars.iterrows():\n",
    "    \n",
    "    if (EmployeeCalendars.EmployeeDay[index] == \"0\"):\n",
    "        cal = Calendar()\n",
    "        cal.add('prodid', 'PYGen')\n",
    "        cal.add('version', '2.0')\n",
    "    \n",
    "    event_end = row['UserBeginTime']\n",
    "    day_end = row['UserEndTime']\n",
    "\n",
    "    # Pick if there's a break or an event, either way add time to it and iterate \n",
    "    while (event_end < day_end):\n",
    "        event = Event()\n",
    "        event.add('summary', 'Python Meeting Randomly Generated')\n",
    "        event.add('dtstamp', datetime.now())\n",
    "        break_length = timedelta(minutes=random.choices(break_length_options, weights=break_length_weights, k=1)[0])\n",
    "        event_end = event_end + break_length\n",
    "        event_begin = event_end\n",
    "        event.add('dtstart', event_begin)\n",
    "        event_length = timedelta(minutes=random.choices(event_length_options, weights=event_length_weights, k=1)[0])\n",
    "        event_end = event_begin + event_length\n",
    "        event.add('dtend', event_end)\n",
    "        event.add('uid', str(EmployeeID) + EmployeeName.replace(\" \", \"\"))\n",
    "        event.add('priority', 5)\n",
    "\n",
    "        if (event_end < day_end):\n",
    "            cal.add_component(event)\n",
    "\n",
    "    # Open the file with the unique filename and write the calendar data\n",
    "    if (EmployeeCalendars.EmployeeDay[index] == \"4\"):\n",
    "        filename = os.path.join(calendar_folder, str(EmployeeCalendars.EmployeeID[index]) + EmployeeCalendars.EmployeeName[index].replace(\" \", \"\") + \".ics\")\n",
    "        with open(filename, 'wb') as f:\n",
    "            f.write(cal.to_ical())\n",
    "        print(\"\\033[92miCalendar files generated successfully and have been saved to: \" + calendar_folder + \"\\033[0m\")\n"
   ]
  },
  {
   "cell_type": "code",
   "execution_count": null,
   "id": "c09e15a0-d7ac-4836-be05-af6215e05beb",
   "metadata": {},
   "outputs": [],
   "source": []
  }
 ],
 "metadata": {
  "kernelspec": {
   "display_name": "Python 3 (ipykernel)",
   "language": "python",
   "name": "python3"
  },
  "language_info": {
   "codemirror_mode": {
    "name": "ipython",
    "version": 3
   },
   "file_extension": ".py",
   "mimetype": "text/x-python",
   "name": "python",
   "nbconvert_exporter": "python",
   "pygments_lexer": "ipython3",
   "version": "3.12.0"
  }
 },
 "nbformat": 4,
 "nbformat_minor": 5
}
